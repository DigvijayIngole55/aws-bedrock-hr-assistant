{
 "cells": [
  {
   "cell_type": "code",
   "execution_count": null,
   "id": "de1c98d6-b7e5-4138-ab30-121d74316e2d",
   "metadata": {},
   "outputs": [],
   "source": [
    "import boto3\n",
    "import json\n",
    "import time\n",
    "\n",
    "# Initialize clients\n",
    "iam_client = boto3.client('iam')\n",
    "sts_client = boto3.client('sts')\n",
    "lambda_client = boto3.client('lambda')\n",
    "bedrock_agent_client = boto3.client('bedrock-agent')\n",
    "session = boto3.session.Session()\n",
    "region = session.region_name\n",
    "account_id = sts_client.get_caller_identity()[\"Account\"]\n",
    "\n",
    "# Define variables (same as in creation script)\n",
    "suffix = f\"{region}-{account_id}\"\n",
    "agent_name = \"hr-assistant-function-def\"\n",
    "agent_bedrock_allow_policy_name = f\"{agent_name}-ba-{suffix}\"\n",
    "agent_role_name = f'AmazonBedrockExecutionRoleForAgents_{agent_name}'\n",
    "agent_alias_name = f\"{agent_name}-alias\"\n",
    "lambda_function_role = f'{agent_name}-lambda-role-{suffix}'\n",
    "lambda_function_name = f'{agent_name}-{suffix}'\n",
    "\n",
    "# Set your agent details\n",
    "agent_id = 'CDL0KSVUWE'  # Your agent ID\n",
    "agent_alias_id = 'SY5ZUHIIQ2'  # Your agent alias ID\n",
    "action_group_id = 'YTNOJR6BN1'  # Your action group ID"
   ]
  },
  {
   "cell_type": "code",
   "execution_count": null,
   "id": "4e3ce26c-7f20-4432-8976-4b7169a344b2",
   "metadata": {},
   "outputs": [],
   "source": [
    "# Step 1: Delete action group\n",
    "try:\n",
    "    print(\"Deleting action group...\")\n",
    "    bedrock_agent_client.delete_agent_action_group(\n",
    "        agentId=agent_id,\n",
    "        agentVersion='DRAFT',\n",
    "        actionGroupId=action_group_id\n",
    "    )\n",
    "    print(\"Action group deleted successfully\")\n",
    "except Exception as e:\n",
    "    print(f\"Error deleting action group: {e}\")"
   ]
  },
  {
   "cell_type": "code",
   "execution_count": null,
   "id": "4b32ee95-114d-46f5-a802-d8dfdc9aef78",
   "metadata": {},
   "outputs": [],
   "source": [
    "# Step 2: Delete agent alias\n",
    "try:\n",
    "    print(\"Deleting agent alias...\")\n",
    "    bedrock_agent_client.delete_agent_alias(\n",
    "        agentAliasId=agent_alias_id,\n",
    "        agentId=agent_id\n",
    "    )\n",
    "    print(\"Agent alias deleted successfully\")\n",
    "except Exception as e:\n",
    "    print(f\"Error deleting agent alias: {e}\")"
   ]
  },
  {
   "cell_type": "code",
   "execution_count": null,
   "id": "a88833c9-a7ac-4248-bffe-9980f0b97645",
   "metadata": {},
   "outputs": [],
   "source": [
    "# Step 3: Delete agent\n",
    "try:\n",
    "    print(\"Deleting agent...\")\n",
    "    bedrock_agent_client.delete_agent(\n",
    "        agentId=agent_id\n",
    "    )\n",
    "    print(\"Agent deleted successfully\")\n",
    "except Exception as e:\n",
    "    print(f\"Error deleting agent: {e}\")"
   ]
  },
  {
   "cell_type": "code",
   "execution_count": 7,
   "id": "a26c2db6-d6c1-43ee-830e-4600bf7797ef",
   "metadata": {},
   "outputs": [
    {
     "name": "stdout",
     "output_type": "stream",
     "text": [
      "Deleting Lambda function...\n",
      "Error deleting Lambda function: An error occurred (ResourceNotFoundException) when calling the DeleteFunction operation: Function not found: arn:aws:lambda:us-east-1:447924746755:function:hr-assistant-function-def-us-east-1-447924746755\n",
      "Cleaning up IAM resources...\n",
      "Error detaching agent policy: An error occurred (NoSuchEntity) when calling the DetachRolePolicy operation: The role with name AmazonBedrockExecutionRoleForAgents_hr-assistant-function-def cannot be found.\n",
      "Error detaching Lambda policy: An error occurred (NoSuchEntity) when calling the DetachRolePolicy operation: The role with name hr-assistant-function-def-lambda-role-us-east-1-447924746755 cannot be found.\n",
      "Error deleting role AmazonBedrockExecutionRoleForAgents_hr-assistant-function-def: An error occurred (NoSuchEntity) when calling the DeleteRole operation: The role with name AmazonBedrockExecutionRoleForAgents_hr-assistant-function-def cannot be found.\n",
      "Error deleting role hr-assistant-function-def-lambda-role-us-east-1-447924746755: An error occurred (NoSuchEntity) when calling the DeleteRole operation: The role with name hr-assistant-function-def-lambda-role-us-east-1-447924746755 cannot be found.\n",
      "Deleted policy: hr-assistant-function-def-ba-us-east-1-447924746755\n",
      "Cleanup completed!\n"
     ]
    }
   ],
   "source": [
    "# Step 4: Delete Lambda function\n",
    "try:\n",
    "    print(\"Deleting Lambda function...\")\n",
    "    lambda_client.delete_function(\n",
    "        FunctionName=lambda_function_name\n",
    "    )\n",
    "    print(\"Lambda function deleted successfully\")\n",
    "except Exception as e:\n",
    "    print(f\"Error deleting Lambda function: {e}\")\n",
    "\n",
    "# Step 5: Clean up IAM roles and policies\n",
    "try:\n",
    "    print(\"Cleaning up IAM resources...\")\n",
    "    \n",
    "    # Detach policies from roles\n",
    "    try:\n",
    "        iam_client.detach_role_policy(\n",
    "            RoleName=agent_role_name, \n",
    "            PolicyArn=f'arn:aws:iam::{account_id}:policy/{agent_bedrock_allow_policy_name}'\n",
    "        )\n",
    "    except Exception as e:\n",
    "        print(f\"Error detaching agent policy: {e}\")\n",
    "    \n",
    "    try:\n",
    "        iam_client.detach_role_policy(\n",
    "            RoleName=lambda_function_role, \n",
    "            PolicyArn='arn:aws:iam::aws:policy/service-role/AWSLambdaBasicExecutionRole'\n",
    "        )\n",
    "    except Exception as e:\n",
    "        print(f\"Error detaching Lambda policy: {e}\")\n",
    "    \n",
    "    # Delete roles\n",
    "    for role_name in [agent_role_name, lambda_function_role]:\n",
    "        try:\n",
    "            iam_client.delete_role(RoleName=role_name)\n",
    "            print(f\"Deleted role: {role_name}\")\n",
    "        except Exception as e:\n",
    "            print(f\"Error deleting role {role_name}: {e}\")\n",
    "    \n",
    "    # Delete custom policy\n",
    "    try:\n",
    "        iam_client.delete_policy(\n",
    "            PolicyArn=f'arn:aws:iam::{account_id}:policy/{agent_bedrock_allow_policy_name}'\n",
    "        )\n",
    "        print(f\"Deleted policy: {agent_bedrock_allow_policy_name}\")\n",
    "    except Exception as e:\n",
    "        print(f\"Error deleting policy: {e}\")\n",
    "        \n",
    "    print(\"Cleanup completed!\")\n",
    "    \n",
    "except Exception as e:\n",
    "    print(f\"Error during IAM cleanup: {e}\")"
   ]
  },
  {
   "cell_type": "code",
   "execution_count": null,
   "id": "1b5a2e67-04b4-4518-a834-309f68b0b35b",
   "metadata": {},
   "outputs": [],
   "source": []
  }
 ],
 "metadata": {
  "kernelspec": {
   "display_name": "Python 3 (ipykernel)",
   "language": "python",
   "name": "python3"
  },
  "language_info": {
   "codemirror_mode": {
    "name": "ipython",
    "version": 3
   },
   "file_extension": ".py",
   "mimetype": "text/x-python",
   "name": "python",
   "nbconvert_exporter": "python",
   "pygments_lexer": "ipython3",
   "version": "3.11.7"
  }
 },
 "nbformat": 4,
 "nbformat_minor": 5
}
