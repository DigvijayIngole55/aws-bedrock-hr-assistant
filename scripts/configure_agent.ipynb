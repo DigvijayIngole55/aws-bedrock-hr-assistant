{
 "cells": [
  {
   "cell_type": "code",
   "execution_count": 30,
   "id": "519ea586-84c7-45e6-ba36-7d0e5b31fb54",
   "metadata": {},
   "outputs": [],
   "source": [
    "import boto3\n",
    "import json\n",
    "import time\n",
    "import zipfile\n",
    "from io import BytesIO\n",
    "import uuid\n",
    "import pprint\n",
    "import logging\n"
   ]
  },
  {
   "cell_type": "code",
   "execution_count": 31,
   "id": "03935ee3-c8f7-4f27-98c6-6c12d79a8c63",
   "metadata": {},
   "outputs": [],
   "source": [
    "\n",
    "logging.basicConfig(format='[%(asctime)s] p%(process)s {%(filename)s:%(lineno)d} %(levelname)s - %(message)s', level=logging.INFO)\n",
    "logger = logging.getLogger(__name__)"
   ]
  },
  {
   "cell_type": "code",
   "execution_count": 3,
   "id": "239511e2-3365-438f-a579-53f9580bdfeb",
   "metadata": {},
   "outputs": [
    {
     "name": "stderr",
     "output_type": "stream",
     "text": [
      "[2025-08-14 21:19:40,556] p33998 {credentials.py:1356} INFO - Found credentials in shared credentials file: ~/.aws/credentials\n"
     ]
    }
   ],
   "source": []
  },
  {
   "cell_type": "code",
   "execution_count": 32,
   "id": "4fa2996a-6b85-4ffc-833b-5a30e652382d",
   "metadata": {},
   "outputs": [
    {
     "data": {
      "text/plain": [
       "'us-east-1'"
      ]
     },
     "execution_count": 32,
     "metadata": {},
     "output_type": "execute_result"
    }
   ],
   "source": [
    "session = boto3.session.Session()\n",
    "region = session.region_name\n",
    "account_id = sts_client.get_caller_identity()[\"Account\"]\n",
    "region"
   ]
  },
  {
   "cell_type": "code",
   "execution_count": 33,
   "id": "ad14aa52-1098-4973-af07-b30f1a001454",
   "metadata": {},
   "outputs": [
    {
     "data": {
      "text/plain": [
       "'amazon.nova-micro-v1:0'"
      ]
     },
     "execution_count": 33,
     "metadata": {},
     "output_type": "execute_result"
    }
   ],
   "source": [
    "inference_profile = \"us.amazon.nova-micro-v1:0\" \n",
    "foundation_model = inference_profile[3:]\n",
    "foundation_model"
   ]
  },
  {
   "cell_type": "code",
   "execution_count": 34,
   "id": "fd70fab8-d7a0-48cc-a78e-dd24dd1ec3c1",
   "metadata": {},
   "outputs": [],
   "source": [
    "suffix = f\"{region}-{account_id}\"\n",
    "agent_name = \"hr-assistant-function-def\"\n",
    "agent_bedrock_allow_policy_name = f\"{agent_name}-ba-{suffix}\"\n",
    "agent_role_name = f'AmazonBedrockExecutionRoleForAgents_{agent_name}'\n",
    "agent_description = \"Agent for providing HR assistance to manage vacation time\"\n",
    "agent_instruction = \"You are an HR agent, helping employees understand HR policies and manage vacation time\"\n",
    "agent_action_group_name = \"VacationsActionGroup\"\n",
    "agent_action_group_description = \"Actions for getting the number of available vacations days for an employee and confirm new time off\"\n",
    "agent_alias_name = f\"{agent_name}-alias\"\n",
    "lambda_function_role = f'{agent_name}-lambda-role-{suffix}'\n",
    "lambda_function_name = f'{agent_name}-{suffix}'"
   ]
  },
  {
   "cell_type": "code",
   "execution_count": 35,
   "id": "f264a07c-b45f-4c37-b7b2-54afa0c9e494",
   "metadata": {},
   "outputs": [],
   "source": [
    "\n",
    "agent_functions = [\n",
    "    {\n",
    "        'name': 'get_available_vacations_days',\n",
    "        'description': 'get the number of vacations available for a certain employee',\n",
    "        'parameters': {\n",
    "            \"employee_id\": {\n",
    "                \"description\": \"the id of the employee to get the available vacations\",\n",
    "                \"required\": True,\n",
    "                \"type\": \"integer\"\n",
    "            }\n",
    "        }\n",
    "    },\n",
    "    {\n",
    "        'name': 'reserve_vacation_time',\n",
    "        'description': 'reserve vacation time for a specific employee - you need all parameters to reserve vacation time',\n",
    "        'parameters': {\n",
    "            \"employee_id\": {\n",
    "                \"description\": \"the id of the employee for which time off will be reserved\",\n",
    "                \"required\": True,\n",
    "                \"type\": \"integer\"\n",
    "            },\n",
    "            \"start_date\": {\n",
    "                \"description\": \"the start date for the vacation time\",\n",
    "                \"required\": True,\n",
    "                \"type\": \"string\"\n",
    "            },\n",
    "            \"end_date\": {\n",
    "                \"description\": \"the end date for the vacation time\",\n",
    "                \"required\": True,\n",
    "                \"type\": \"string\"\n",
    "            }\n",
    "        }\n",
    "    },\n",
    "]"
   ]
  },
  {
   "cell_type": "code",
   "execution_count": 36,
   "id": "67f2c1af-b1c8-4b4e-bf5e-05f0af275f4d",
   "metadata": {},
   "outputs": [
    {
     "ename": "ConflictException",
     "evalue": "An error occurred (ConflictException) when calling the CreateAgentActionGroup operation: Could not perform Create operation, since the VacationsActionGroup (id: YTNOJR6BN1) with the same name VacationsActionGroup already exists",
     "output_type": "error",
     "traceback": [
      "\u001b[0;31m---------------------------------------------------------------------------\u001b[0m",
      "\u001b[0;31mConflictException\u001b[0m                         Traceback (most recent call last)",
      "Cell \u001b[0;32mIn[36], line 1\u001b[0m\n\u001b[0;32m----> 1\u001b[0m agent_action_group_response \u001b[38;5;241m=\u001b[39m bedrock_agent_client\u001b[38;5;241m.\u001b[39mcreate_agent_action_group(\n\u001b[1;32m      2\u001b[0m     agentId\u001b[38;5;241m=\u001b[39m\u001b[38;5;124m\"\u001b[39m\u001b[38;5;124mCDL0KSVUWE\u001b[39m\u001b[38;5;124m\"\u001b[39m,\n\u001b[1;32m      3\u001b[0m     agentVersion\u001b[38;5;241m=\u001b[39m\u001b[38;5;124m'\u001b[39m\u001b[38;5;124mDRAFT\u001b[39m\u001b[38;5;124m'\u001b[39m,\n\u001b[1;32m      4\u001b[0m     actionGroupExecutor\u001b[38;5;241m=\u001b[39m{\n\u001b[1;32m      5\u001b[0m         \u001b[38;5;124m'\u001b[39m\u001b[38;5;124mlambda\u001b[39m\u001b[38;5;124m'\u001b[39m: \u001b[38;5;124m'\u001b[39m\u001b[38;5;124marn:aws:lambda:us-east-1:447924746755:function:hr-assistant-function-def-us-east-1-447924746755\u001b[39m\u001b[38;5;124m'\u001b[39m\n\u001b[1;32m      6\u001b[0m     },\n\u001b[1;32m      7\u001b[0m     actionGroupName\u001b[38;5;241m=\u001b[39magent_action_group_name,\n\u001b[1;32m      8\u001b[0m     functionSchema\u001b[38;5;241m=\u001b[39m{\n\u001b[1;32m      9\u001b[0m         \u001b[38;5;124m'\u001b[39m\u001b[38;5;124mfunctions\u001b[39m\u001b[38;5;124m'\u001b[39m: agent_functions\n\u001b[1;32m     10\u001b[0m     },\n\u001b[1;32m     11\u001b[0m     description\u001b[38;5;241m=\u001b[39magent_action_group_description\n\u001b[1;32m     12\u001b[0m )\n\u001b[1;32m     14\u001b[0m agent_action_group_response\n",
      "File \u001b[0;32m/opt/anaconda3/lib/python3.11/site-packages/botocore/client.py:602\u001b[0m, in \u001b[0;36mClientCreator._create_api_method.<locals>._api_call\u001b[0;34m(self, *args, **kwargs)\u001b[0m\n\u001b[1;32m    598\u001b[0m     \u001b[38;5;28;01mraise\u001b[39;00m \u001b[38;5;167;01mTypeError\u001b[39;00m(\n\u001b[1;32m    599\u001b[0m         \u001b[38;5;124mf\u001b[39m\u001b[38;5;124m\"\u001b[39m\u001b[38;5;132;01m{\u001b[39;00mpy_operation_name\u001b[38;5;132;01m}\u001b[39;00m\u001b[38;5;124m() only accepts keyword arguments.\u001b[39m\u001b[38;5;124m\"\u001b[39m\n\u001b[1;32m    600\u001b[0m     )\n\u001b[1;32m    601\u001b[0m \u001b[38;5;66;03m# The \"self\" in this scope is referring to the BaseClient.\u001b[39;00m\n\u001b[0;32m--> 602\u001b[0m \u001b[38;5;28;01mreturn\u001b[39;00m \u001b[38;5;28mself\u001b[39m\u001b[38;5;241m.\u001b[39m_make_api_call(operation_name, kwargs)\n",
      "File \u001b[0;32m/opt/anaconda3/lib/python3.11/site-packages/botocore/context.py:123\u001b[0m, in \u001b[0;36mwith_current_context.<locals>.decorator.<locals>.wrapper\u001b[0;34m(*args, **kwargs)\u001b[0m\n\u001b[1;32m    121\u001b[0m \u001b[38;5;28;01mif\u001b[39;00m hook:\n\u001b[1;32m    122\u001b[0m     hook()\n\u001b[0;32m--> 123\u001b[0m \u001b[38;5;28;01mreturn\u001b[39;00m func(\u001b[38;5;241m*\u001b[39margs, \u001b[38;5;241m*\u001b[39m\u001b[38;5;241m*\u001b[39mkwargs)\n",
      "File \u001b[0;32m/opt/anaconda3/lib/python3.11/site-packages/botocore/client.py:1078\u001b[0m, in \u001b[0;36mBaseClient._make_api_call\u001b[0;34m(self, operation_name, api_params)\u001b[0m\n\u001b[1;32m   1074\u001b[0m     error_code \u001b[38;5;241m=\u001b[39m request_context\u001b[38;5;241m.\u001b[39mget(\n\u001b[1;32m   1075\u001b[0m         \u001b[38;5;124m'\u001b[39m\u001b[38;5;124merror_code_override\u001b[39m\u001b[38;5;124m'\u001b[39m\n\u001b[1;32m   1076\u001b[0m     ) \u001b[38;5;129;01mor\u001b[39;00m error_info\u001b[38;5;241m.\u001b[39mget(\u001b[38;5;124m\"\u001b[39m\u001b[38;5;124mCode\u001b[39m\u001b[38;5;124m\"\u001b[39m)\n\u001b[1;32m   1077\u001b[0m     error_class \u001b[38;5;241m=\u001b[39m \u001b[38;5;28mself\u001b[39m\u001b[38;5;241m.\u001b[39mexceptions\u001b[38;5;241m.\u001b[39mfrom_code(error_code)\n\u001b[0;32m-> 1078\u001b[0m     \u001b[38;5;28;01mraise\u001b[39;00m error_class(parsed_response, operation_name)\n\u001b[1;32m   1079\u001b[0m \u001b[38;5;28;01melse\u001b[39;00m:\n\u001b[1;32m   1080\u001b[0m     \u001b[38;5;28;01mreturn\u001b[39;00m parsed_response\n",
      "\u001b[0;31mConflictException\u001b[0m: An error occurred (ConflictException) when calling the CreateAgentActionGroup operation: Could not perform Create operation, since the VacationsActionGroup (id: YTNOJR6BN1) with the same name VacationsActionGroup already exists"
     ]
    }
   ],
   "source": [
    "agent_action_group_response = bedrock_agent_client.create_agent_action_group(\n",
    "    agentId=\"CDL0KSVUWE\",\n",
    "    agentVersion='DRAFT',\n",
    "    actionGroupExecutor={\n",
    "        'lambda': 'arn:aws:lambda:us-east-1:447924746755:function:hr-assistant-function-def-us-east-1-447924746755'\n",
    "    },\n",
    "    actionGroupName=agent_action_group_name,\n",
    "    functionSchema={\n",
    "        'functions': agent_functions\n",
    "    },\n",
    "    description=agent_action_group_description\n",
    ")\n",
    "\n",
    "agent_action_group_response"
   ]
  },
  {
   "cell_type": "code",
   "execution_count": 29,
   "id": "da2d1cbd-3012-4b21-b6ab-92b182d993cf",
   "metadata": {},
   "outputs": [
    {
     "ename": "ResourceConflictException",
     "evalue": "An error occurred (ResourceConflictException) when calling the AddPermission operation: The statement id (allow_bedrock) provided already exists. Please provide a new statement id, or remove the existing statement.",
     "output_type": "error",
     "traceback": [
      "\u001b[0;31m---------------------------------------------------------------------------\u001b[0m",
      "\u001b[0;31mResourceConflictException\u001b[0m                 Traceback (most recent call last)",
      "Cell \u001b[0;32mIn[29], line 1\u001b[0m\n\u001b[0;32m----> 1\u001b[0m response \u001b[38;5;241m=\u001b[39m lambda_client\u001b[38;5;241m.\u001b[39madd_permission(\n\u001b[1;32m      2\u001b[0m     FunctionName\u001b[38;5;241m=\u001b[39mlambda_function_name,\n\u001b[1;32m      3\u001b[0m     StatementId\u001b[38;5;241m=\u001b[39m\u001b[38;5;124m'\u001b[39m\u001b[38;5;124mallow_bedrock\u001b[39m\u001b[38;5;124m'\u001b[39m,\n\u001b[1;32m      4\u001b[0m     Action\u001b[38;5;241m=\u001b[39m\u001b[38;5;124m'\u001b[39m\u001b[38;5;124mlambda:InvokeFunction\u001b[39m\u001b[38;5;124m'\u001b[39m,\n\u001b[1;32m      5\u001b[0m     Principal\u001b[38;5;241m=\u001b[39m\u001b[38;5;124m'\u001b[39m\u001b[38;5;124mbedrock.amazonaws.com\u001b[39m\u001b[38;5;124m'\u001b[39m,\n\u001b[1;32m      6\u001b[0m     SourceArn\u001b[38;5;241m=\u001b[39m\u001b[38;5;124mf\u001b[39m\u001b[38;5;124m\"\u001b[39m\u001b[38;5;124marn:aws:bedrock:\u001b[39m\u001b[38;5;132;01m{\u001b[39;00mregion\u001b[38;5;132;01m}\u001b[39;00m\u001b[38;5;124m:\u001b[39m\u001b[38;5;132;01m{\u001b[39;00maccount_id\u001b[38;5;132;01m}\u001b[39;00m\u001b[38;5;124m:agent/CDL0KSVUWE\u001b[39m\u001b[38;5;124m\"\u001b[39m,\n\u001b[1;32m      7\u001b[0m )\n",
      "File \u001b[0;32m/opt/anaconda3/lib/python3.11/site-packages/botocore/client.py:602\u001b[0m, in \u001b[0;36mClientCreator._create_api_method.<locals>._api_call\u001b[0;34m(self, *args, **kwargs)\u001b[0m\n\u001b[1;32m    598\u001b[0m     \u001b[38;5;28;01mraise\u001b[39;00m \u001b[38;5;167;01mTypeError\u001b[39;00m(\n\u001b[1;32m    599\u001b[0m         \u001b[38;5;124mf\u001b[39m\u001b[38;5;124m\"\u001b[39m\u001b[38;5;132;01m{\u001b[39;00mpy_operation_name\u001b[38;5;132;01m}\u001b[39;00m\u001b[38;5;124m() only accepts keyword arguments.\u001b[39m\u001b[38;5;124m\"\u001b[39m\n\u001b[1;32m    600\u001b[0m     )\n\u001b[1;32m    601\u001b[0m \u001b[38;5;66;03m# The \"self\" in this scope is referring to the BaseClient.\u001b[39;00m\n\u001b[0;32m--> 602\u001b[0m \u001b[38;5;28;01mreturn\u001b[39;00m \u001b[38;5;28mself\u001b[39m\u001b[38;5;241m.\u001b[39m_make_api_call(operation_name, kwargs)\n",
      "File \u001b[0;32m/opt/anaconda3/lib/python3.11/site-packages/botocore/context.py:123\u001b[0m, in \u001b[0;36mwith_current_context.<locals>.decorator.<locals>.wrapper\u001b[0;34m(*args, **kwargs)\u001b[0m\n\u001b[1;32m    121\u001b[0m \u001b[38;5;28;01mif\u001b[39;00m hook:\n\u001b[1;32m    122\u001b[0m     hook()\n\u001b[0;32m--> 123\u001b[0m \u001b[38;5;28;01mreturn\u001b[39;00m func(\u001b[38;5;241m*\u001b[39margs, \u001b[38;5;241m*\u001b[39m\u001b[38;5;241m*\u001b[39mkwargs)\n",
      "File \u001b[0;32m/opt/anaconda3/lib/python3.11/site-packages/botocore/client.py:1078\u001b[0m, in \u001b[0;36mBaseClient._make_api_call\u001b[0;34m(self, operation_name, api_params)\u001b[0m\n\u001b[1;32m   1074\u001b[0m     error_code \u001b[38;5;241m=\u001b[39m request_context\u001b[38;5;241m.\u001b[39mget(\n\u001b[1;32m   1075\u001b[0m         \u001b[38;5;124m'\u001b[39m\u001b[38;5;124merror_code_override\u001b[39m\u001b[38;5;124m'\u001b[39m\n\u001b[1;32m   1076\u001b[0m     ) \u001b[38;5;129;01mor\u001b[39;00m error_info\u001b[38;5;241m.\u001b[39mget(\u001b[38;5;124m\"\u001b[39m\u001b[38;5;124mCode\u001b[39m\u001b[38;5;124m\"\u001b[39m)\n\u001b[1;32m   1077\u001b[0m     error_class \u001b[38;5;241m=\u001b[39m \u001b[38;5;28mself\u001b[39m\u001b[38;5;241m.\u001b[39mexceptions\u001b[38;5;241m.\u001b[39mfrom_code(error_code)\n\u001b[0;32m-> 1078\u001b[0m     \u001b[38;5;28;01mraise\u001b[39;00m error_class(parsed_response, operation_name)\n\u001b[1;32m   1079\u001b[0m \u001b[38;5;28;01melse\u001b[39;00m:\n\u001b[1;32m   1080\u001b[0m     \u001b[38;5;28;01mreturn\u001b[39;00m parsed_response\n",
      "\u001b[0;31mResourceConflictException\u001b[0m: An error occurred (ResourceConflictException) when calling the AddPermission operation: The statement id (allow_bedrock) provided already exists. Please provide a new statement id, or remove the existing statement."
     ]
    }
   ],
   "source": [
    "response = lambda_client.add_permission(\n",
    "    FunctionName=lambda_function_name,\n",
    "    StatementId='allow_bedrock',\n",
    "    Action='lambda:InvokeFunction',\n",
    "    Principal='bedrock.amazonaws.com',\n",
    "    SourceArn=f\"arn:aws:bedrock:{region}:{account_id}:agent/CDL0KSVUWE\",\n",
    ")"
   ]
  },
  {
   "cell_type": "code",
   "execution_count": 23,
   "id": "52d16366-6cfc-453c-8e9d-d93fc338c708",
   "metadata": {},
   "outputs": [
    {
     "data": {
      "text/plain": [
       "{'ResponseMetadata': {'RequestId': 'f9b9be89-9100-433c-a552-ec9738333a3c',\n",
       "  'HTTPStatusCode': 202,\n",
       "  'HTTPHeaders': {'date': 'Fri, 15 Aug 2025 05:47:56 GMT',\n",
       "   'content-type': 'application/json',\n",
       "   'content-length': '119',\n",
       "   'connection': 'keep-alive',\n",
       "   'x-amzn-requestid': 'f9b9be89-9100-433c-a552-ec9738333a3c',\n",
       "   'x-amz-apigw-id': 'PVSB8GVBIAMEOwA=',\n",
       "   'x-amzn-trace-id': 'Root=1-689eca0c-3fd15efb5e335cc839971cc5'},\n",
       "  'RetryAttempts': 0},\n",
       " 'agentId': 'CDL0KSVUWE',\n",
       " 'agentStatus': 'PREPARING',\n",
       " 'agentVersion': 'DRAFT',\n",
       " 'preparedAt': datetime.datetime(2025, 8, 15, 5, 47, 56, 589650, tzinfo=tzutc())}"
      ]
     },
     "execution_count": 23,
     "metadata": {},
     "output_type": "execute_result"
    }
   ],
   "source": [
    "response = bedrock_agent_client.prepare_agent(\n",
    "    agentId=\"CDL0KSVUWE\"\n",
    ")\n",
    "response"
   ]
  },
  {
   "cell_type": "code",
   "execution_count": 25,
   "id": "13bf6b27-b5e0-49dc-8c80-fe275190f336",
   "metadata": {},
   "outputs": [
    {
     "data": {
      "text/plain": [
       "{'ResponseMetadata': {'RequestId': '8473ebf6-81d9-4833-b924-ef6859d8206f',\n",
       "  'HTTPStatusCode': 202,\n",
       "  'HTTPHeaders': {'date': 'Fri, 15 Aug 2025 05:49:56 GMT',\n",
       "   'content-type': 'application/json',\n",
       "   'content-length': '382',\n",
       "   'connection': 'keep-alive',\n",
       "   'x-amzn-requestid': '8473ebf6-81d9-4833-b924-ef6859d8206f',\n",
       "   'x-amz-apigw-id': 'PVSUvEG8oAMEdoQ=',\n",
       "   'x-amzn-trace-id': 'Root=1-689eca84-192a88a167576d6e2f84ef3d'},\n",
       "  'RetryAttempts': 0},\n",
       " 'agentAlias': {'agentAliasArn': 'arn:aws:bedrock:us-east-1:447924746755:agent-alias/CDL0KSVUWE/SY5ZUHIIQ2',\n",
       "  'agentAliasId': 'SY5ZUHIIQ2',\n",
       "  'agentAliasName': 'test-alias-1',\n",
       "  'agentAliasStatus': 'CREATING',\n",
       "  'agentId': 'CDL0KSVUWE',\n",
       "  'aliasInvocationState': 'ACCEPT_INVOCATIONS',\n",
       "  'createdAt': datetime.datetime(2025, 8, 15, 5, 49, 56, 502183, tzinfo=tzutc()),\n",
       "  'routingConfiguration': [{}],\n",
       "  'updatedAt': datetime.datetime(2025, 8, 15, 5, 49, 56, 502183, tzinfo=tzutc())}}"
      ]
     },
     "execution_count": 25,
     "metadata": {},
     "output_type": "execute_result"
    }
   ],
   "source": [
    "response = bedrock_agent_client.create_agent_alias(\n",
    "    agentAliasName='test-alias-1',\n",
    "    agentId=\"CDL0KSVUWE\"\n",
    ")\n",
    "\n",
    "response"
   ]
  },
  {
   "cell_type": "code",
   "execution_count": 38,
   "id": "05d31052-2fd3-4261-91d5-73c6861d4fdc",
   "metadata": {},
   "outputs": [
    {
     "data": {
      "text/plain": [
       "{'ResponseMetadata': {'RequestId': '8419b773-063d-44b4-9303-10f3c70e7393',\n",
       "  'HTTPStatusCode': 200,\n",
       "  'HTTPHeaders': {'date': 'Fri, 15 Aug 2025 06:22:56 GMT',\n",
       "   'content-type': 'application/json',\n",
       "   'content-length': '1388',\n",
       "   'connection': 'keep-alive',\n",
       "   'x-amzn-requestid': '8419b773-063d-44b4-9303-10f3c70e7393',\n",
       "   'x-amz-apigw-id': 'PVXKGEZlIAMEsVw=',\n",
       "   'x-amzn-trace-id': 'Root=1-689ed240-76a7801e5e479b5173a7ea16'},\n",
       "  'RetryAttempts': 0},\n",
       " 'agentActionGroup': {'actionGroupExecutor': {'lambda': 'arn:aws:lambda:us-east-1:447924746755:function:hr-assistant-function-def-us-east-1-447924746755'},\n",
       "  'actionGroupId': 'YTNOJR6BN1',\n",
       "  'actionGroupName': 'VacationsActionGroup',\n",
       "  'actionGroupState': 'ENABLED',\n",
       "  'agentId': 'CDL0KSVUWE',\n",
       "  'agentVersion': 'DRAFT',\n",
       "  'clientToken': 'd56516b7-7da5-4a8f-ad19-9e590fe5a522',\n",
       "  'createdAt': datetime.datetime(2025, 8, 15, 5, 44, 45, 252606, tzinfo=tzutc()),\n",
       "  'description': 'Actions for getting the number of available vacations days for an employee and confirm new time off',\n",
       "  'functionSchema': {'functions': [{'description': 'get the number of vacations available for a certain employee',\n",
       "     'name': 'get_available_vacations_days',\n",
       "     'parameters': {'employee_id': {'description': 'the id of the employee to get the available vacations',\n",
       "       'required': True,\n",
       "       'type': 'integer'}},\n",
       "     'requireConfirmation': 'DISABLED'},\n",
       "    {'description': 'reserve vacation time for a specific employee - you need all parameters to reserve vacation time',\n",
       "     'name': 'reserve_vacation_time',\n",
       "     'parameters': {'end_date': {'description': 'the end date for the vacation time',\n",
       "       'required': True,\n",
       "       'type': 'string'},\n",
       "      'employee_id': {'description': 'the id of the employee for which time off will be reserved',\n",
       "       'required': True,\n",
       "       'type': 'integer'},\n",
       "      'start_date': {'description': 'the start date for the vacation time',\n",
       "       'required': True,\n",
       "       'type': 'string'}},\n",
       "     'requireConfirmation': 'DISABLED'}]},\n",
       "  'updatedAt': datetime.datetime(2025, 8, 15, 6, 22, 56, 492887, tzinfo=tzutc())}}"
      ]
     },
     "execution_count": 38,
     "metadata": {},
     "output_type": "execute_result"
    }
   ],
   "source": [
    "agent_action_group_response = bedrock_agent_client.update_agent_action_group(\n",
    "      agentId=\"CDL0KSVUWE\",\n",
    "      agentVersion='DRAFT',\n",
    "      actionGroupId='YTNOJR6BN1',  # Use the existing action group ID\n",
    "      actionGroupExecutor={\n",
    "          'lambda': 'arn:aws:lambda:us-east-1:447924746755:function:hr-assistant-function-def-us-east-1-447924746755'\n",
    "      },\n",
    "      actionGroupName=agent_action_group_name,\n",
    "      functionSchema={\n",
    "          'functions': agent_functions\n",
    "      },\n",
    "      description=agent_action_group_description\n",
    "  )\n",
    "\n",
    "agent_action_group_response"
   ]
  },
  {
   "cell_type": "code",
   "execution_count": 41,
   "id": "d9436124-85f1-447b-a764-41d8fcfcfad0",
   "metadata": {},
   "outputs": [
    {
     "data": {
      "text/plain": [
       "{'ResponseMetadata': {'RequestId': 'f48fce5b-8d21-4a5c-b60e-07d9325e11b4',\n",
       "  'HTTPStatusCode': 202,\n",
       "  'HTTPHeaders': {'date': 'Fri, 15 Aug 2025 06:24:02 GMT',\n",
       "   'content-type': 'application/json',\n",
       "   'content-length': '119',\n",
       "   'connection': 'keep-alive',\n",
       "   'x-amzn-requestid': 'f48fce5b-8d21-4a5c-b60e-07d9325e11b4',\n",
       "   'x-amz-apigw-id': 'PVXUbHy8oAMEpFA=',\n",
       "   'x-amzn-trace-id': 'Root=1-689ed282-0c2866d54e3dac53617bc0d4'},\n",
       "  'RetryAttempts': 0},\n",
       " 'agentId': 'CDL0KSVUWE',\n",
       " 'agentStatus': 'PREPARING',\n",
       " 'agentVersion': 'DRAFT',\n",
       " 'preparedAt': datetime.datetime(2025, 8, 15, 6, 24, 2, 747308, tzinfo=tzutc())}"
      ]
     },
     "execution_count": 41,
     "metadata": {},
     "output_type": "execute_result"
    }
   ],
   "source": [
    "prepare_agent_response = bedrock_agent_client.prepare_agent(\n",
    "      agentId=\"CDL0KSVUWE\"\n",
    "  )\n",
    "\n",
    "prepare_agent_response"
   ]
  },
  {
   "cell_type": "code",
   "execution_count": 42,
   "id": "3200533b-6b9e-407e-aaca-05b660ccb63c",
   "metadata": {},
   "outputs": [
    {
     "data": {
      "text/plain": [
       "{'ResponseMetadata': {'RequestId': 'f48fce5b-8d21-4a5c-b60e-07d9325e11b4',\n",
       "  'HTTPStatusCode': 202,\n",
       "  'HTTPHeaders': {'date': 'Fri, 15 Aug 2025 06:24:02 GMT',\n",
       "   'content-type': 'application/json',\n",
       "   'content-length': '119',\n",
       "   'connection': 'keep-alive',\n",
       "   'x-amzn-requestid': 'f48fce5b-8d21-4a5c-b60e-07d9325e11b4',\n",
       "   'x-amz-apigw-id': 'PVXUbHy8oAMEpFA=',\n",
       "   'x-amzn-trace-id': 'Root=1-689ed282-0c2866d54e3dac53617bc0d4'},\n",
       "  'RetryAttempts': 0},\n",
       " 'agentId': 'CDL0KSVUWE',\n",
       " 'agentStatus': 'PREPARING',\n",
       " 'agentVersion': 'DRAFT',\n",
       " 'preparedAt': datetime.datetime(2025, 8, 15, 6, 24, 2, 747308, tzinfo=tzutc())}"
      ]
     },
     "execution_count": 42,
     "metadata": {},
     "output_type": "execute_result"
    }
   ],
   "source": [
    "prepare_agent_response"
   ]
  },
  {
   "cell_type": "code",
   "execution_count": null,
   "id": "25040b37-1446-4642-a9de-c32704e48fa1",
   "metadata": {},
   "outputs": [],
   "source": []
  }
 ],
 "metadata": {
  "kernelspec": {
   "display_name": "Python 3 (ipykernel)",
   "language": "python",
   "name": "python3"
  },
  "language_info": {
   "codemirror_mode": {
    "name": "ipython",
    "version": 3
   },
   "file_extension": ".py",
   "mimetype": "text/x-python",
   "name": "python",
   "nbconvert_exporter": "python",
   "pygments_lexer": "ipython3",
   "version": "3.11.7"
  }
 },
 "nbformat": 4,
 "nbformat_minor": 5
}
