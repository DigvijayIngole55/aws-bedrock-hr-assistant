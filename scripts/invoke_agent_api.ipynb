{
 "cells": [
  {
   "cell_type": "code",
   "execution_count": 18,
   "id": "a969e69b-f696-4766-bdb2-af10fa805ceb",
   "metadata": {},
   "outputs": [],
   "source": [
    "import uuid\n",
    "import pprint\n",
    "import logging\n",
    "import boto3\n",
    "import json\n",
    "import time"
   ]
  },
  {
   "cell_type": "code",
   "execution_count": 22,
   "id": "9a0766b1-48d8-4a65-98c0-94096ab865ea",
   "metadata": {},
   "outputs": [],
   "source": [
    "bedrock_agent_runtime_client = boto3.client('bedrock-agent-runtime')\n",
    "\n",
    "logging.basicConfig(format='[%(asctime)s] p%(process)s {%(filename)s:%(lineno)d} %(levelname)s - %(message)s', level=logging.INFO)\n",
    "logger = logging.getLogger(__name__)"
   ]
  },
  {
   "cell_type": "code",
   "execution_count": 33,
   "id": "00de5236-0a98-48bd-83c5-fa21e391b330",
   "metadata": {
    "scrolled": true
   },
   "outputs": [
    {
     "name": "stderr",
     "output_type": "stream",
     "text": [
      "[2025-08-15 08:40:10,944] p35999 {1893165513.py:15} INFO - None\n"
     ]
    },
    {
     "name": "stdout",
     "output_type": "stream",
     "text": [
      "{'ResponseMetadata': {'HTTPHeaders': {'connection': 'keep-alive',\n",
      "                                      'content-type': 'application/vnd.amazon.eventstream',\n",
      "                                      'date': 'Fri, 15 Aug 2025 15:40:10 GMT',\n",
      "                                      'transfer-encoding': 'chunked',\n",
      "                                      'x-amz-bedrock-agent-session-id': '20d1be7c-79ee-11f0-9b7f-02b9d5960dc8',\n",
      "                                      'x-amzn-bedrock-agent-content-type': 'application/json',\n",
      "                                      'x-amzn-requestid': '7ca914a2-768a-4dbe-af6c-4d023e880544'},\n",
      "                      'HTTPStatusCode': 200,\n",
      "                      'RequestId': '7ca914a2-768a-4dbe-af6c-4d023e880544',\n",
      "                      'RetryAttempts': 0},\n",
      " 'completion': <botocore.eventstream.EventStream object at 0x10d394c50>,\n",
      " 'contentType': 'application/json',\n",
      " 'sessionId': '20d1be7c-79ee-11f0-9b7f-02b9d5960dc8'}\n"
     ]
    },
    {
     "name": "stderr",
     "output_type": "stream",
     "text": [
      "[2025-08-15 08:40:13,732] p35999 {1893165513.py:22} INFO - Final answer ->\n",
      "The employee with employee_id 1 has 10 vacation days available.\n"
     ]
    }
   ],
   "source": [
    "session_id:str = str(uuid.uuid1())\n",
    "enable_trace:bool = False\n",
    "end_session:bool = False\n",
    "\n",
    "# invoke the agent API\n",
    "agentResponse = bedrock_agent_runtime_client.invoke_agent(\n",
    "    inputText=\"How much vacation does the employee with employee_id set to 1 have available?\",\n",
    "    agentId='CDL0KSVUWE',\n",
    "    agentAliasId='SY5ZUHIIQ2', \n",
    "    sessionId=session_id,\n",
    "    enableTrace=False, \n",
    "    endSession= end_session\n",
    ")\n",
    "\n",
    "logger.info(pprint.pprint(agentResponse))\n",
    "\n",
    "event_stream = agentResponse['completion']\n",
    "try:\n",
    "    for event in event_stream:        \n",
    "        if 'chunk' in event:\n",
    "            data = event['chunk']['bytes']\n",
    "            logger.info(f\"Final answer ->\\n{data.decode('utf8')}\")\n",
    "            agent_answer = data.decode('utf8')\n",
    "            end_event_received = True\n",
    "        elif 'trace' in event:\n",
    "            logger.info(f\"Trace event: {event['trace']}\")\n",
    "        else:\n",
    "            raise Exception(\"unexpected event.\", event)\n",
    "except Exception as e:\n",
    "    raise Exception(\"unexpected event.\", e)"
   ]
  },
  {
   "cell_type": "code",
   "execution_count": null,
   "id": "46f5de21-35a3-4fc0-a85d-4633e0e4762a",
   "metadata": {},
   "outputs": [],
   "source": []
  }
 ],
 "metadata": {
  "kernelspec": {
   "display_name": "Python 3 (ipykernel)",
   "language": "python",
   "name": "python3"
  },
  "language_info": {
   "codemirror_mode": {
    "name": "ipython",
    "version": 3
   },
   "file_extension": ".py",
   "mimetype": "text/x-python",
   "name": "python",
   "nbconvert_exporter": "python",
   "pygments_lexer": "ipython3",
   "version": "3.11.7"
  }
 },
 "nbformat": 4,
 "nbformat_minor": 5
}
