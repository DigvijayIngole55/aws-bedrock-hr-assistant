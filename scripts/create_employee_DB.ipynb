{
 "cells": [
  {
   "cell_type": "code",
   "execution_count": 2,
   "id": "d273e255-12bc-4f33-870e-73827e6ea495",
   "metadata": {},
   "outputs": [],
   "source": [
    "import sqlite3\n",
    "import random\n",
    "from datetime import date, timedelta\n",
    "\n",
    "conn = sqlite3.connect('employee_database.db')\n",
    "c = conn.cursor()\n",
    "\n",
    "c.execute('''CREATE TABLE IF NOT EXISTS employees\n",
    "                (employee_id INTEGER PRIMARY KEY AUTOINCREMENT, employee_name TEXT, employee_job_title TEXT, employee_start_date TEXT, employee_employment_status TEXT)''')\n",
    "\n",
    "c.execute('''CREATE TABLE IF NOT EXISTS vacations\n",
    "                (employee_id INTEGER, year INTEGER, employee_total_vacation_days INTEGER, employee_vacation_days_taken INTEGER, employee_vacation_days_available INTEGER, FOREIGN KEY(employee_id) REFERENCES employees(employee_id))''')\n",
    "\n",
    "c.execute('''CREATE TABLE IF NOT EXISTS planned_vacations\n",
    "                (employee_id INTEGER, vacation_start_date TEXT, vacation_end_date TEXT, vacation_days_taken INTEGER, FOREIGN KEY(employee_id) REFERENCES employees(employee_id))''')\n",
    "\n",
    "employee_names = ['John Doe', 'Jane Smith', 'Bob Johnson', 'Alice Williams', 'Tom Brown', 'Emily Davis', 'Michael Wilson', 'Sarah Taylor', 'David Anderson', 'Jessica Thompson']\n",
    "job_titles = ['Manager', 'Developer', 'Designer', 'Analyst', 'Accountant', 'Sales Representative']\n",
    "employment_statuses = ['Active', 'Inactive']\n",
    "\n",
    "for i in range(10):\n",
    "    name = employee_names[i]\n",
    "    job_title = random.choice(job_titles)\n",
    "    start_date = date(2015 + random.randint(0, 7), random.randint(1, 12), random.randint(1, 28)).strftime('%Y−%m−%d')\n",
    "    employment_status = random.choice(employment_statuses)\n",
    "    c.execute(\"INSERT INTO employees (employee_name, employee_job_title, employee_start_date, employee_employment_status) VALUES (?, ?, ?, ?)\", (name, job_title, start_date, employment_status))\n",
    "    employee_id = c.lastrowid\n",
    "\n",
    "    for year in range(date.today().year, date.today().year - 3, -1):\n",
    "        total_vacation_days = random.randint(10, 30)\n",
    "        days_taken = random.randint(0, total_vacation_days)\n",
    "        days_available = total_vacation_days - days_taken\n",
    "        c.execute(\"INSERT INTO vacations (employee_id, year, employee_total_vacation_days, employee_vacation_days_taken, employee_vacation_days_available) VALUES (?, ?, ?, ?, ?)\", (employee_id, year, total_vacation_days, days_taken, days_available))\n",
    "\n",
    "        num_planned_vacations = random.randint(0, 3)\n",
    "        for _ in range(num_planned_vacations):\n",
    "            start_date = date(year, random.randint(1, 12), random.randint(1, 28)).strftime('%Y−%m−%d')\n",
    "            end_date = (date(int(start_date[:4]), int(start_date[5:7]), int(start_date[8:])) + timedelta(days=random.randint(1, 14))).strftime('%Y−%m−%d')\n",
    "            days_taken = (date(int(end_date[:4]), int(end_date[5:7]), int(end_date[8:])) - date(int(start_date[:4]), int(start_date[5:7]), int(start_date[8:])))\n",
    "            c.execute(\"INSERT INTO planned_vacations (employee_id, vacation_start_date, vacation_end_date, vacation_days_taken) VALUES (?, ?, ?, ?)\", (employee_id, start_date, end_date, days_taken.days))\n",
    "\n",
    "conn.commit()\n",
    "conn.close()"
   ]
  },
  {
   "cell_type": "code",
   "execution_count": null,
   "id": "bbda31b8-aa37-4556-85a9-ad50f528ed3d",
   "metadata": {},
   "outputs": [],
   "source": []
  }
 ],
 "metadata": {
  "kernelspec": {
   "display_name": "Python 3 (ipykernel)",
   "language": "python",
   "name": "python3"
  },
  "language_info": {
   "codemirror_mode": {
    "name": "ipython",
    "version": 3
   },
   "file_extension": ".py",
   "mimetype": "text/x-python",
   "name": "python",
   "nbconvert_exporter": "python",
   "pygments_lexer": "ipython3",
   "version": "3.11.7"
  }
 },
 "nbformat": 4,
 "nbformat_minor": 5
}
