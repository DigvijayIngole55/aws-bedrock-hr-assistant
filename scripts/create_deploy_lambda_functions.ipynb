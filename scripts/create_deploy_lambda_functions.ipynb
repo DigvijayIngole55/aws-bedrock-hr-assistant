{
 "cells": [
  {
   "cell_type": "code",
   "execution_count": 24,
   "id": "b8fd6650-2987-4d81-97f3-c53a32a6c651",
   "metadata": {},
   "outputs": [],
   "source": [
    "import boto3\n",
    "import boto3\n",
    "import json\n",
    "import time\n",
    "import zipfile\n",
    "from io import BytesIO\n",
    "\n",
    "\n",
    "\n",
    "iam_client = boto3.client('iam')\n",
    "sts_client = boto3.client('sts')\n",
    "lambda_client = boto3.client('lambda')\n",
    "session = boto3.session.Session()\n",
    "region = session.region_name\n",
    "account_id = sts_client.get_caller_identity()[\"Account\"]\n",
    "\n",
    "suffix = f\"{region}-{account_id}\"\n",
    "agent_name = \"hr-assistant-function-def\"\n",
    "agent_bedrock_allow_policy_name = f\"{agent_name}-ba-{suffix}\"\n",
    "agent_role_name = f'AmazonBedrockExecutionRoleForAgents_{agent_name}'\n",
    "agent_description = \"Agent for providing HR assistance to manage vacation time\"\n",
    "agent_instruction = \"You are an HR agent, helping employees understand HR policies and manage vacation time\"\n",
    "agent_action_group_name = \"VacationsActionGroup\"\n",
    "agent_action_group_description = \"Actions for getting the number of available vacations days for an employee and confirm new time off\"\n",
    "agent_alias_name = f\"{agent_name}-alias\"\n",
    "lambda_function_role = f'{agent_name}-lambda-role-{suffix}'\n",
    "lambda_function_name = f'{agent_name}-{suffix}'"
   ]
  },
  {
   "cell_type": "code",
   "execution_count": 4,
   "id": "a73c5d7c-5ad4-4733-a008-4a4de5b7bca4",
   "metadata": {},
   "outputs": [
    {
     "name": "stdout",
     "output_type": "stream",
     "text": [
      "Overwriting get_available_vacations_days.py\n"
     ]
    }
   ],
   "source": [
    "%%writefile get_available_vacations_days.py\n",
    "import os\n",
    "import json\n",
    "import shutil\n",
    "import sqlite3\n",
    "from datetime import datetime\n",
    "\n",
    "\n",
    "def get_available_vacations_days(employee_id):\n",
    "    conn = sqlite3.connect('/tmp/employee_database.db')\n",
    "    c = conn.cursor()\n",
    "\n",
    "    if employee_id:\n",
    "        c.execute(\"\"\"\n",
    "            SELECT employee_vacation_days_available\n",
    "            FROM vacations\n",
    "            WHERE employee_id = ?\n",
    "            ORDER BY year DESC\n",
    "            LIMIT 1\n",
    "        \"\"\", (employee_id,))\n",
    "\n",
    "        available_vacation_days = c.fetchone()\n",
    "\n",
    "        if available_vacation_days:\n",
    "            available_vacation_days = available_vacation_days[0]\n",
    "            conn.close()\n",
    "            return available_vacation_days\n",
    "        else:\n",
    "            conn.close()\n",
    "            return f\"No vacation data found for employed_id {employee_id}\"\n",
    "    else:\n",
    "        conn.close()\n",
    "        raise Exception(\"No employee id provided\")"
   ]
  },
  {
   "cell_type": "code",
   "execution_count": 27,
   "id": "e01dd2e2-01a9-478c-95e0-2e54ecbd6a81",
   "metadata": {},
   "outputs": [
    {
     "name": "stdout",
     "output_type": "stream",
     "text": [
      "Overwriting reserve_vacation_time.py\n"
     ]
    }
   ],
   "source": [
    "%%writefile reserve_vacation_time.py\n",
    "\n",
    "import os\n",
    "import json\n",
    "import shutil\n",
    "import sqlite3\n",
    "from datetime import datetime\n",
    "\n",
    "def reserve_vacation_time(employee_id, start_date, end_date):\n",
    "    conn = sqlite3.connect('/tmp/employee_database.db')\n",
    "    c = conn.cursor()\n",
    "    \n",
    "    if not employee_id:\n",
    "        conn.close()\n",
    "        raise Exception(\"No employee id provided\")\n",
    "    \n",
    "    if not start_date or not end_date:\n",
    "        conn.close()\n",
    "        raise Exception(\"Both start_date and end_date are required\")\n",
    "    \n",
    "    try:\n",
    "        # Calculate vacation days requested\n",
    "        start_date_obj = datetime.strptime(start_date, '%Y-%m-%d').date()\n",
    "        end_date_obj = datetime.strptime(end_date, '%Y-%m-%d').date()\n",
    "        vacation_days_requested = (end_date_obj - start_date_obj).days + 1\n",
    "        \n",
    "        current_year = datetime.now().year\n",
    "        \n",
    "        # Insert the planned vacation\n",
    "        c.execute(\"\"\"\n",
    "            INSERT INTO planned_vacations \n",
    "            (employee_id, vacation_start_date, vacation_end_date, vacation_days_taken) \n",
    "            VALUES (?, ?, ?, ?)\n",
    "        \"\"\", (employee_id, start_date, end_date, vacation_days_requested))\n",
    "        \n",
    "        # Update vacation days\n",
    "        c.execute(\"\"\"\n",
    "            UPDATE vacations \n",
    "            SET employee_vacation_days_taken = employee_vacation_days_taken + ?, \n",
    "                employee_vacation_days_available = employee_vacation_days_available - ?\n",
    "            WHERE employee_id = ? AND year = ?\n",
    "        \"\"\", (vacation_days_requested, vacation_days_requested, employee_id, current_year))\n",
    "        \n",
    "        conn.commit()\n",
    "        conn.close()\n",
    "        \n",
    "        return f\"Vacation reserved successfully from {start_date} to {end_date} ({vacation_days_requested} days)\"\n",
    "        \n",
    "    except Exception as e:\n",
    "        conn.rollback()\n",
    "        conn.close()\n",
    "        raise Exception(str(e))"
   ]
  },
  {
   "cell_type": "code",
   "execution_count": 20,
   "id": "416f1bff-7532-4556-b9e6-7ef71fb79b30",
   "metadata": {},
   "outputs": [
    {
     "data": {
      "text/plain": [
       "{'ResponseMetadata': {'RequestId': 'f3c313fb-5246-4a5c-8e18-50477a232217',\n",
       "  'HTTPStatusCode': 200,\n",
       "  'HTTPHeaders': {'date': 'Fri, 15 Aug 2025 05:03:55 GMT',\n",
       "   'x-amzn-requestid': 'f3c313fb-5246-4a5c-8e18-50477a232217',\n",
       "   'content-type': 'text/xml',\n",
       "   'content-length': '212'},\n",
       "  'RetryAttempts': 0}}"
      ]
     },
     "execution_count": 20,
     "metadata": {},
     "output_type": "execute_result"
    }
   ],
   "source": [
    "try:\n",
    "    assume_role_policy_document = {\n",
    "        \"Version\": \"2012-10-17\",\n",
    "        \"Statement\": [\n",
    "            {\n",
    "                \"Effect\": \"Allow\",\n",
    "                \"Principal\": {\n",
    "                    \"Service\": \"lambda.amazonaws.com\"\n",
    "                },\n",
    "                \"Action\": \"sts:AssumeRole\"\n",
    "            }\n",
    "        ]\n",
    "    }\n",
    "\n",
    "    assume_role_policy_document_json = json.dumps(assume_role_policy_document)\n",
    "\n",
    "    lambda_iam_role = iam_client.create_role(\n",
    "        RoleName=lambda_function_role,\n",
    "        AssumeRolePolicyDocument=assume_role_policy_document_json\n",
    "    )\n",
    "\n",
    "    # Pause to make sure role is created\n",
    "    time.sleep(10)\n",
    "except:\n",
    "    lambda_iam_role = iam_client.get_role(RoleName=lambda_function_role)\n",
    "\n",
    "iam_client.attach_role_policy(\n",
    "    RoleName=lambda_function_role,\n",
    "    PolicyArn='arn:aws:iam::aws:policy/service-role/AWSLambdaBasicExecutionRole'\n",
    ")"
   ]
  },
  {
   "cell_type": "code",
   "execution_count": 31,
   "id": "b7a2ff8c-203c-4bae-8fed-471699ebce28",
   "metadata": {},
   "outputs": [
    {
     "name": "stdout",
     "output_type": "stream",
     "text": [
      "Lambda function updated successfully!\n",
      "Function ARN: arn:aws:lambda:us-east-1:447924746755:function:hr-assistant-function-def-us-east-1-447924746755\n"
     ]
    }
   ],
   "source": [
    "s = BytesIO()\n",
    "z = zipfile.ZipFile(s, 'w')\n",
    "z.write(\"lambda_function.py\")\n",
    "z.write(\"get_available_vacations_days.py\")\n",
    "z.write(\"reserve_vacation_time.py\")\n",
    "z.write(\"employee_database.db\")\n",
    "z.close()\n",
    "zip_content = s.getvalue()\n",
    "\n",
    "# Update existing function instead of creating new one\n",
    "try:\n",
    "    lambda_function = lambda_client.update_function_code(\n",
    "        FunctionName=lambda_function_name,\n",
    "        ZipFile=zip_content\n",
    "    )\n",
    "    print(\"Lambda function updated successfully!\")\n",
    "    print(f\"Function ARN: {lambda_function['FunctionArn']}\")\n",
    "except Exception as e:\n",
    "    print(f\"Error updating Lambda function: {e}\")\n",
    "    # If update fails, try to create new function\n",
    "    try:\n",
    "        lambda_function = lambda_client.create_function(\n",
    "            FunctionName=lambda_function_name,\n",
    "            Runtime='python3.12',\n",
    "            Timeout=180,\n",
    "            Role=lambda_iam_role['Role']['Arn'],\n",
    "            Code={'ZipFile': zip_content},\n",
    "            Handler='lambda_function.lambda_handler'\n",
    "        )\n",
    "        print(\"Lambda function created successfully!\")\n",
    "    except Exception as create_error:\n",
    "        print(f\"Error creating Lambda function: {create_error}\")"
   ]
  },
  {
   "cell_type": "code",
   "execution_count": null,
   "id": "343a9bfc-2373-498f-9fb7-bc8bff46c550",
   "metadata": {},
   "outputs": [],
   "source": []
  }
 ],
 "metadata": {
  "kernelspec": {
   "display_name": "Python 3 (ipykernel)",
   "language": "python",
   "name": "python3"
  },
  "language_info": {
   "codemirror_mode": {
    "name": "ipython",
    "version": 3
   },
   "file_extension": ".py",
   "mimetype": "text/x-python",
   "name": "python",
   "nbconvert_exporter": "python",
   "pygments_lexer": "ipython3",
   "version": "3.11.7"
  }
 },
 "nbformat": 4,
 "nbformat_minor": 5
}
