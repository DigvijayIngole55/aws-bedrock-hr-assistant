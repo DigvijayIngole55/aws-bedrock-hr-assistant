{
 "cells": [
  {
   "cell_type": "code",
   "execution_count": 13,
   "id": "2036ca62-680b-444e-baf2-cb1ba6b96bc4",
   "metadata": {},
   "outputs": [],
   "source": [
    "import boto3\n",
    "import boto3\n",
    "import json\n",
    "import time\n",
    "import zipfile\n",
    "from io import BytesIO\n",
    "\n",
    "\n",
    "\n",
    "iam_client = boto3.client('iam')\n",
    "sts_client = boto3.client('sts')\n",
    "lambda_client = boto3.client('lambda')\n",
    "session = boto3.session.Session()\n",
    "region = session.region_name\n",
    "account_id = sts_client.get_caller_identity()[\"Account\"]\n",
    "\n",
    "suffix = f\"{region}-{account_id}\"\n",
    "agent_name = \"hr-assistant-function-def\"\n",
    "agent_bedrock_allow_policy_name = f\"{agent_name}-ba-{suffix}\"\n",
    "agent_role_name = f'AmazonBedrockExecutionRoleForAgents_{agent_name}'\n",
    "agent_description = \"Agent for providing HR assistance to manage vacation time\"\n",
    "agent_instruction = \"You are an HR agent, helping employees understand HR policies and manage vacation time\"\n",
    "agent_action_group_name = \"VacationsActionGroup\"\n",
    "agent_action_group_description = \"Actions for getting the number of available vacations days for an employee and confirm new time off\"\n",
    "agent_alias_name = f\"{agent_name}-alias\"\n",
    "lambda_function_role = f'{agent_name}-lambda-role-{suffix}'\n",
    "lambda_function_name = f'{agent_name}-{suffix}'\n",
    "bedrock_agent_client = boto3.client('bedrock-agent')\n",
    "bedrock_agent_runtime_client = boto3.client('bedrock-agent-runtime')"
   ]
  },
  {
   "cell_type": "code",
   "execution_count": 8,
   "id": "d6346316-6f27-47f4-aec1-3b79c19757b5",
   "metadata": {},
   "outputs": [
    {
     "data": {
      "text/plain": [
       "'amazon.nova-micro-v1:0'"
      ]
     },
     "execution_count": 8,
     "metadata": {},
     "output_type": "execute_result"
    }
   ],
   "source": [
    "inference_profile = \"us.amazon.nova-micro-v1:0\" \n",
    "foundation_model = inference_profile[3:]\n",
    "foundation_model"
   ]
  },
  {
   "cell_type": "code",
   "execution_count": 9,
   "id": "e0ba0d72-ba89-48ad-96b6-8661396ec433",
   "metadata": {},
   "outputs": [],
   "source": [
    "bedrock_agent_bedrock_allow_policy_statement = {\n",
    "    \"Version\": \"2012-10-17\",\n",
    "    \"Statement\": [\n",
    "        {\n",
    "            \"Sid\": \"AmazonBedrockAgentBedrockFoundationModelPolicy\",\n",
    "            \"Effect\": \"Allow\",\n",
    "            \"Action\": \"bedrock:InvokeModel\",\n",
    "            \"Resource\": [\n",
    "                f\"arn:aws:bedrock:*::foundation-model/{foundation_model}\",\n",
    "                f\"arn:aws:bedrock:*:*:inference-profile/{inference_profile}\"\n",
    "            ]\n",
    "        },\n",
    "        {\n",
    "            \"Sid\": \"AmazonBedrockAgentBedrockGetInferenceProfile\",\n",
    "            \"Effect\": \"Allow\",\n",
    "            \"Action\":  [\n",
    "                \"bedrock:GetInferenceProfile\",\n",
    "                \"bedrock:ListInferenceProfiles\",\n",
    "                \"bedrock:UseInferenceProfile\"\n",
    "            ],\n",
    "            \"Resource\": [\n",
    "                f\"arn:aws:bedrock:*:*:inference-profile/{inference_profile}\"\n",
    "            ]\n",
    "        }\n",
    "    ]\n",
    "}\n",
    "\n",
    "bedrock_policy_json = json.dumps(bedrock_agent_bedrock_allow_policy_statement)\n",
    "\n",
    "agent_bedrock_policy = iam_client.create_policy(\n",
    "    PolicyName=agent_bedrock_allow_policy_name,\n",
    "    PolicyDocument=bedrock_policy_json\n",
    ")"
   ]
  },
  {
   "cell_type": "code",
   "execution_count": 10,
   "id": "c9e1fa04-810e-4230-a897-7b9f68e0d8ba",
   "metadata": {},
   "outputs": [
    {
     "data": {
      "text/plain": [
       "{'ResponseMetadata': {'RequestId': 'bc3e8bcf-6f4e-4d2b-974e-249658c5476a',\n",
       "  'HTTPStatusCode': 200,\n",
       "  'HTTPHeaders': {'date': 'Fri, 15 Aug 2025 05:21:07 GMT',\n",
       "   'x-amzn-requestid': 'bc3e8bcf-6f4e-4d2b-974e-249658c5476a',\n",
       "   'content-type': 'text/xml',\n",
       "   'content-length': '212'},\n",
       "  'RetryAttempts': 0}}"
      ]
     },
     "execution_count": 10,
     "metadata": {},
     "output_type": "execute_result"
    }
   ],
   "source": [
    "assume_role_policy_document = {\n",
    "    \"Version\": \"2012-10-17\",\n",
    "    \"Statement\": [{\n",
    "        \"Effect\": \"Allow\",\n",
    "        \"Principal\": {\n",
    "            \"Service\": \"bedrock.amazonaws.com\"\n",
    "        },\n",
    "        \"Action\": \"sts:AssumeRole\"\n",
    "    }]\n",
    "}\n",
    "\n",
    "assume_role_policy_document_json = json.dumps(assume_role_policy_document)\n",
    "agent_role = iam_client.create_role(\n",
    "    RoleName=agent_role_name,\n",
    "    AssumeRolePolicyDocument=assume_role_policy_document_json\n",
    ")\n",
    "\n",
    "time.sleep(10)\n",
    "\n",
    "iam_client.attach_role_policy(\n",
    "    RoleName=agent_role_name,\n",
    "    PolicyArn=agent_bedrock_policy['Policy']['Arn']\n",
    ")"
   ]
  },
  {
   "cell_type": "code",
   "execution_count": 14,
   "id": "8c4990ed-26c8-429d-9448-f4c4f14a9bd0",
   "metadata": {},
   "outputs": [
    {
     "data": {
      "text/plain": [
       "('CDL0KSVUWE',\n",
       " {'ResponseMetadata': {'RequestId': '2314dc57-ef30-4708-918f-e0d236bef43a',\n",
       "   'HTTPStatusCode': 202,\n",
       "   'HTTPHeaders': {'date': 'Fri, 15 Aug 2025 05:22:57 GMT',\n",
       "    'content-type': 'application/json',\n",
       "    'content-length': '692',\n",
       "    'connection': 'keep-alive',\n",
       "    'x-amzn-requestid': '2314dc57-ef30-4708-918f-e0d236bef43a',\n",
       "    'x-amz-apigw-id': 'PVOXwGploAMEeAA=',\n",
       "    'x-amzn-trace-id': 'Root=1-689ec431-1a23ca9e33690bfe46b39d37'},\n",
       "   'RetryAttempts': 0},\n",
       "  'agent': {'agentArn': 'arn:aws:bedrock:us-east-1:447924746755:agent/CDL0KSVUWE',\n",
       "   'agentCollaboration': 'DISABLED',\n",
       "   'agentId': 'CDL0KSVUWE',\n",
       "   'agentName': 'hr-assistant-function-def',\n",
       "   'agentResourceRoleArn': 'arn:aws:iam::447924746755:role/AmazonBedrockExecutionRoleForAgents_hr-assistant-function-def',\n",
       "   'agentStatus': 'CREATING',\n",
       "   'createdAt': datetime.datetime(2025, 8, 15, 5, 22, 57, 543567, tzinfo=tzutc()),\n",
       "   'description': 'Agent for providing HR assistance to manage vacation time',\n",
       "   'foundationModel': 'us.amazon.nova-micro-v1:0',\n",
       "   'idleSessionTTLInSeconds': 1800,\n",
       "   'instruction': 'You are an HR agent, helping employees understand HR policies and manage vacation time',\n",
       "   'orchestrationType': 'DEFAULT',\n",
       "   'updatedAt': datetime.datetime(2025, 8, 15, 5, 22, 57, 543567, tzinfo=tzutc())}})"
      ]
     },
     "execution_count": 14,
     "metadata": {},
     "output_type": "execute_result"
    }
   ],
   "source": [
    "response = bedrock_agent_client.create_agent(\n",
    "    agentName=agent_name,\n",
    "    agentResourceRoleArn=agent_role['Role']['Arn'],\n",
    "    description=agent_description,\n",
    "    idleSessionTTLInSeconds=1800,\n",
    "    foundationModel=inference_profile,\n",
    "    instruction=agent_instruction,\n",
    ")\n",
    "agent_id = response['agent']['agentId']\n",
    "agent_id, response"
   ]
  },
  {
   "cell_type": "code",
   "execution_count": null,
   "id": "0e032654-74b6-479f-a477-7ba06bf75dcb",
   "metadata": {},
   "outputs": [],
   "source": []
  }
 ],
 "metadata": {
  "kernelspec": {
   "display_name": "Python 3 (ipykernel)",
   "language": "python",
   "name": "python3"
  },
  "language_info": {
   "codemirror_mode": {
    "name": "ipython",
    "version": 3
   },
   "file_extension": ".py",
   "mimetype": "text/x-python",
   "name": "python",
   "nbconvert_exporter": "python",
   "pygments_lexer": "ipython3",
   "version": "3.11.7"
  }
 },
 "nbformat": 4,
 "nbformat_minor": 5
}
